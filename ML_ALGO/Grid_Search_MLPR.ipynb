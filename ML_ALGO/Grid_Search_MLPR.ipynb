{
 "cells": [
  {
   "cell_type": "code",
   "execution_count": 6,
   "metadata": {},
   "outputs": [],
   "source": [
    "import os\n",
    "import numpy as np\n",
    "import pandas as pd\n",
    "import feather\n",
    "from sklearn.preprocessing import StandardScaler\n",
    "from sklearn.neural_network import MLPRegressor\n",
    "from sklearn.model_selection import train_test_split\n",
    "from sklearn.model_selection import GridSearchCV"
   ]
  },
  {
   "cell_type": "code",
   "execution_count": null,
   "metadata": {},
   "outputs": [],
   "source": [
    "top_wd = os.getcwd()\n",
    "feather_dir = top_wd + \"\\\\Feather\"\n",
    "feather_dir"
   ]
  },
  {
   "cell_type": "code",
   "execution_count": 25,
   "metadata": {},
   "outputs": [],
   "source": [
    "os.chdir(feather_dir)\n",
    "AMELIA = feather.read_dataframe(\"01_SRS_Base_sample.feather\")"
   ]
  },
  {
   "cell_type": "code",
   "execution_count": 29,
   "metadata": {},
   "outputs": [],
   "source": [
    "def to_numeric(dataframe):\n",
    "    sex = {\"Male\":1,\"Female\":2}\n",
    "    dataframe = dataframe.replace({\"Sex\": sex})\n",
    "    return dataframe\n",
    "AMELIA = to_numeric(AMELIA)"
   ]
  },
  {
   "cell_type": "code",
   "execution_count": 30,
   "metadata": {},
   "outputs": [],
   "source": [
    "y_var = AMELIA[\"Person_Income\"]\n",
    "x_var = AMELIA.drop(columns = [\"index\", \"Person_Income\", \"Personal_ID\"])\n",
    "\n",
    "x_train, x_test, y_train, y_test = train_test_split(x_var, y_var, test_size = 0.25, random_state = 420)"
   ]
  },
  {
   "cell_type": "code",
   "execution_count": 32,
   "metadata": {},
   "outputs": [],
   "source": [
    "sc = StandardScaler()\n",
    "\n",
    "x_train = sc.fit_transform(x_train)\n",
    "x_test = sc.fit_transform(x_test)\n",
    "x_train = pd.DataFrame(x_train, columns=x_var.columns)\n",
    "x_test = pd.DataFrame(x_test, columns=x_var.columns)\n",
    "y_train = y_train"
   ]
  },
  {
   "cell_type": "code",
   "execution_count": 74,
   "metadata": {},
   "outputs": [],
   "source": [
    "param_grid = [\n",
    "        {\n",
    "            'hidden_layer_sizes': [(100,), (500,),(1000,),(2000,)],\n",
    "            'activation' : ['relu'],\n",
    "            'solver' : ['lbfgs'],\n",
    "            'alpha': [0.0001, 0.001, 0.01],\n",
    "            'batch_size':['auto'],\n",
    "            'max_iter':[500],\n",
    "            'random_state':[420],\n",
    "            'verbose':[True]\n",
    "        }\n",
    "       ]"
   ]
  },
  {
   "cell_type": "code",
   "execution_count": null,
   "metadata": {},
   "outputs": [],
   "source": [
    "clf = GridSearchCV(MLPRegressor(), param_grid, cv=10, scoring='neg_mean_squared_error', n_jobs = -1)\n",
    "clf.fit(x_train,y_train.ravel())\n",
    "\n",
    "\n",
    "print(\"Best parameters set found on development set:\")\n",
    "print(clf.best_params_)"
   ]
  }
 ],
 "metadata": {
  "interpreter": {
   "hash": "c14cf6fee9e82c9cdd34ec15f18624274457bb0e780094f6e02ebebdc5a43f41"
  },
  "kernelspec": {
   "display_name": "Python 3.9.6 64-bit ('amelia': conda)",
   "language": "python",
   "name": "python3"
  },
  "language_info": {
   "codemirror_mode": {
    "name": "ipython",
    "version": 3
   },
   "file_extension": ".py",
   "mimetype": "text/x-python",
   "name": "python",
   "nbconvert_exporter": "python",
   "pygments_lexer": "ipython3",
   "version": "3.9.6"
  },
  "orig_nbformat": 4
 },
 "nbformat": 4,
 "nbformat_minor": 2
}
