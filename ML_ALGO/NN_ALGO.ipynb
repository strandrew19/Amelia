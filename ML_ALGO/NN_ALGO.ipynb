{
 "cells": [
  {
   "cell_type": "code",
   "execution_count": 23,
   "metadata": {},
   "outputs": [],
   "source": [
    "import os\n",
    "import numpy as np\n",
    "import pandas as pd\n",
    "import feather\n",
    "from sklearn.preprocessing import StandardScaler\n",
    "from sklearn.model_selection import train_test_split\n",
    "from sklearn.neural_network import MLPRegressor"
   ]
  },
  {
   "cell_type": "code",
   "execution_count": 212,
   "metadata": {},
   "outputs": [],
   "source": [
    "#Set top level directory, path for reading feather and output file for the results\n",
    "top_wd = os.getcwd()\n",
    "feather_dir = top_wd + \"\\\\Feather\"\n",
    "os.makedirs(top_wd + \"\\\\Results\", exist_ok=True)\n",
    "results_dir = top_wd + \"\\\\Results\""
   ]
  },
  {
   "cell_type": "code",
   "execution_count": null,
   "metadata": {},
   "outputs": [],
   "source": [
    "#Function for numeric conversion of sex variable\n",
    "def to_numeric(dataframe):\n",
    "    sex = {\"Male\":1,\"Female\":2}\n",
    "    dataframe = dataframe.replace({\"Sex\": sex})\n",
    "    return dataframe"
   ]
  },
  {
   "cell_type": "code",
   "execution_count": 75,
   "metadata": {},
   "outputs": [],
   "source": [
    "#Create a dictionary for accesing all dataframes\n",
    "df_dict = {}\n",
    "for i in range(10):\n",
    "    os.chdir(feather_dir)\n",
    "    SRS = feather.read_dataframe(f\"0{i+1}_srs_sample.feather\") \n",
    "    Importance = feather.read_dataframe(f\"0{i+1}_importance_sample.feather\") \n",
    "    Synthetic = feather.read_dataframe(f\"0{i+1}_synthetic_sample.feather\")\n",
    "\n",
    "    #Apply numeric conversion (Male:1, Female:2)\n",
    "    SRS = to_numeric(SRS)\n",
    "    Importance = to_numeric(Importance)\n",
    "    Synthetic = to_numeric(Synthetic)\n",
    "\n",
    "    df_dict[f\"SRS_{i+1}\"] = SRS\n",
    "    df_dict[f\"Importance_{i+1}\"] = Importance\n",
    "    df_dict[f\"Synthetic_{i+1}\"] = Synthetic\n"
   ]
  },
  {
   "cell_type": "code",
   "execution_count": 151,
   "metadata": {},
   "outputs": [],
   "source": [
    "#Create a function for handeling train test split\n",
    "def t_t_split(dataframe):\n",
    "    #Split x and y vars (also drop personal ID identifier)\n",
    "    x_var = dataframe.iloc[:,2:].drop(columns = \"Personal_ID\")\n",
    "    y_var = dataframe.iloc[:,0]\n",
    "\n",
    "    #Creat Train/Test split for x and y\n",
    "    x_train, x_test, y_train, y_test = train_test_split(x_var, y_var, test_size = 0.25, random_state = 420)\n",
    "\n",
    "    #Keep a copy of unscaled x_test for later comparison\n",
    "    x_test_unscaled = x_test\n",
    "\n",
    "    #Scale x var for train and test\n",
    "    sc = StandardScaler()\n",
    "    #Done now for convience regarding column reassignment(rather than above when x_var created)\n",
    "    x_train = sc.fit_transform(x_train)\n",
    "    x_test = sc.fit_transform(x_test)\n",
    "    x_train = pd.DataFrame(x_train, columns=x_var.columns)\n",
    "    x_test = pd.DataFrame(x_test, columns=x_var.columns)\n",
    "\n",
    "    return x_train, x_test, y_train, y_test, x_test_unscaled"
   ]
  },
  {
   "cell_type": "code",
   "execution_count": 198,
   "metadata": {},
   "outputs": [],
   "source": [
    "#Loop through Sampling methods and run our NN on each one, storing the score and results\n",
    "def results(df_dict, Method = \"SRS\"):\n",
    "\n",
    "   s_names = [\"SRS\", \"Importance\", \"Synthetic\"]\n",
    "\n",
    "   scores = pd.DataFrame(columns = s_names)\n",
    "   predicts_dict = {}\n",
    "\n",
    "   \"\"\"For Method pass: SRS, Importance or Synthetic (SRS Default)\"\"\"\n",
    "   for i in range(10):   \n",
    "      x_train, x_test, y_train, y_test, x_test_unscaled = t_t_split(df_dict[f\"{Method}_{i+1}\"])\n",
    "\n",
    "      #Run Multi-layer Perceptron regressor\n",
    "      regr = MLPRegressor(random_state=420, max_iter=500, activation = \"relu\", solver='lbfgs').fit(x_train, y_train)\n",
    "      \n",
    "      #Generate Score Value\n",
    "      s_v = regr.score(x_test, y_test)\n",
    "\n",
    "      #Write If function ( if SRS: if != SRS:)\n",
    "\n",
    "      #Add score to scores DataFrame\n",
    "      scores = scores.append({Method:s_v}, ignore_index=True)\n",
    "\n",
    "      #Once SRS is done \n",
    "      # scores.loc[i,f\"{Method}\"] = scores\n",
    "\n",
    "      #Generate Predictions\n",
    "      predictions = regr.predict(x_test)\n",
    "      \n",
    "      #Replace negative outputs with 0\n",
    "      predictions = np.where(predictions < 0, 0, predictions)\n",
    "\n",
    "      #Convert Predicitons from Ndarray to Dataframe for Concat\n",
    "      predictions = pd.DataFrame(data=predictions, columns=[\"Predictions\"])\n",
    "      \n",
    "      #Store Y_test, Predictions for X_test and data for X_test (For Comparision)\n",
    "      fused_df = pd.concat([y_test.reset_index(drop=True), predictions, x_test_unscaled.reset_index(drop=True)], axis = 1)\n",
    "      predicts_dict[f\"{Method}_{i+1}\"] = fused_df\n",
    "   \n",
    "   return scores, predicts_dict\n",
    "   "
   ]
  },
  {
   "cell_type": "code",
   "execution_count": null,
   "metadata": {},
   "outputs": [],
   "source": [
    "#Runtime for SRS: 18 minutes, 07 seconds\n",
    "# scores, predicts_dict = results(df_dict)"
   ]
  },
  {
   "cell_type": "code",
   "execution_count": 216,
   "metadata": {},
   "outputs": [],
   "source": [
    "os.chdir(results_dir)\n",
    "# scores.index += 1\n",
    "feather.write_dataframe(scores,\"scores.feather\")\n",
    "for i in range(10):\n",
    "    feather.write_dataframe(predicts_dict[f\"SRS_{i+1}\"],f\"0{i+1}_srs_MLPR_results.feather\") \n",
    "    #feather.read_dataframe(,f\"0{i+1}_importance_MLPR_results.feather\") \n",
    "    #feather.read_dataframe(,f\"0{i+1}_synthetic_MLPR_results.feather\")\n"
   ]
  },
  {
   "cell_type": "code",
   "execution_count": 34,
   "metadata": {},
   "outputs": [
    {
     "data": {
      "image/png": "[encoded data removed]",
      "text/plain": [
       "<Figure size 432x288 with 1 Axes>"
      ]
     },
     "metadata": {
      "needs_background": "light"
     },
     "output_type": "display_data"
    }
   ],
   "source": [
    "import seaborn as sns\n",
    "import matplotlib.pyplot as plt\n",
    "\n",
    "sns.kdeplot(data=predictions, bw_adjust=.2)\n",
    "sns.kdeplot(data=y_test, bw_adjust=0.2)\n",
    "plt.xscale(\"log\")"
   ]
  },
  {
   "cell_type": "code",
   "execution_count": 35,
   "metadata": {},
   "outputs": [
    {
     "data": {
      "image/png": "[encoded data removed]",
      "text/plain": [
       "<Figure size 720x432 with 1 Axes>"
      ]
     },
     "metadata": {
      "needs_background": "light"
     },
     "output_type": "display_data"
    }
   ],
   "source": [
    "df_temp = pd.DataFrame({'Actual': y_test, 'Predicted': predictions})\n",
    "df_temp = df_temp.head(30)\n",
    "\n",
    "df_temp.plot(kind='bar',figsize=(10,6))\n",
    "plt.grid(which='major', linestyle='-', linewidth='0.5', color='green')\n",
    "plt.grid(which='minor', linestyle=':', linewidth='0.5', color='black')\n",
    "plt.show()"
   ]
  }
 ],
 "metadata": {
  "interpreter": {
   "hash": "c14cf6fee9e82c9cdd34ec15f18624274457bb0e780094f6e02ebebdc5a43f41"
  },
  "kernelspec": {
   "display_name": "Python 3.9.6 64-bit ('amelia': conda)",
   "language": "python",
   "name": "python3"
  },
  "language_info": {
   "codemirror_mode": {
    "name": "ipython",
    "version": 3
   },
   "file_extension": ".py",
   "mimetype": "text/x-python",
   "name": "python",
   "nbconvert_exporter": "python",
   "pygments_lexer": "ipython3",
   "version": "3.9.6"
  },
  "orig_nbformat": 4
 },
 "nbformat": 4,
 "nbformat_minor": 2
}
