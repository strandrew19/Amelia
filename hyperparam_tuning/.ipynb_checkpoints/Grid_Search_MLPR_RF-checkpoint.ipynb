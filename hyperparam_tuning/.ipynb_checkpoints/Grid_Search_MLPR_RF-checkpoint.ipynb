{
 "cells": [
  {
   "cell_type": "code",
   "execution_count": 1,
   "metadata": {},
   "outputs": [],
   "source": [
    "import os\n",
    "import numpy as np\n",
    "import pandas as pd\n",
    "import feather\n",
    "from sklearn.preprocessing import StandardScaler\n",
    "from sklearn.neural_network import MLPRegressor\n",
    "from sklearn.model_selection import train_test_split\n",
    "from sklearn.model_selection import GridSearchCV\n",
    "from sklearn.ensemble import RandomForestRegressor"
   ]
  },
  {
   "cell_type": "code",
   "execution_count": 2,
   "metadata": {},
   "outputs": [
    {
     "data": {
      "text/plain": [
       "'C:\\\\Users\\\\s1ddschi\\\\Desktop\\\\Amelia\\\\Amelia\\\\ML_ALGO\\\\..\\\\data\\\\Feather Samples'"
      ]
     },
     "execution_count": 2,
     "metadata": {},
     "output_type": "execute_result"
    }
   ],
   "source": [
    "top_wd = os.getcwd()\n",
    "feather_dir = top_wd + \"\\\\..\\\\data\\\\Feather Samples\"\n",
    "feather_dir"
   ]
  },
  {
   "cell_type": "code",
   "execution_count": 3,
   "metadata": {},
   "outputs": [],
   "source": [
    "os.chdir(feather_dir)\n",
    "AMELIA = pd.read_feather(\"01_SRS_Base_sample.feather\")"
   ]
  },
  {
   "cell_type": "code",
   "execution_count": 4,
   "metadata": {},
   "outputs": [],
   "source": [
    "def cata_encode(dataframe):\n",
    "    \"\"\"Since get_dummies has not dropped the extra column, it must be done explicitly (Avoids Multicolinearity)\"\"\"\n",
    "    #Cities will be dropped since there are too many and they are not considered relevant for our analysis\n",
    "    #4: Other inactive person \n",
    "    Work_Columns = {\"Work_Status_1.0\":\"At Work\", \"Work_Status_2.0\":\"Unemployed\", \"Work_Status_3.0\":\"Retired\"}\n",
    "    #5: ISCED5 or ISCED6\n",
    "    Highest_ISCED = {\"Highest_ISCED_1.0\":\"ISCED 1\", \"Highest_ISCED_2.0\":\"ISCED 2\", \"Highest_ISCED_3.0\":\"ISCED 3\", \"Highest_ISCED_4.0\":\"ISCED 4\"}\n",
    "    #5: Divorced\n",
    "    Martial_Status = {\"Martial_Status_1.0\":\"Never Married\", \"Martial_Status_2.0\":\"Married\",\"Martial_Status_3.0\":\"Separated\",\"Martial_Status_4.0\":\"Widowed\"}\n",
    "    #4: Region 4\n",
    "    Region_ID = {\"Regional_ID_1\":\"Region_1\", \"Regional_ID_2\":\"Region_2\", \"Regional_ID_3\":\"Region_3\"}\n",
    "    #11: Province 11\n",
    "    #40: District 40\n",
    "\n",
    "    dataframe = pd.get_dummies(dataframe, columns=['Work_Status', \"Highest_ISCED\", \"Martial_Status\", \"Regional_ID\", \"Province\", \"District\"]).rename(columns=Work_Columns).rename(columns=Highest_ISCED).rename(columns=Martial_Status).rename(columns=Region_ID).drop(columns=[\"Work_Status_4.0\", \"Highest_ISCED_5.0\", \"Martial_Status_5.0\", \"City.Community\", \"Regional_ID_4\", \"Province_11\", \"District_40\"])\n",
    "    return dataframe"
   ]
  },
  {
   "cell_type": "code",
   "execution_count": 5,
   "metadata": {},
   "outputs": [],
   "source": [
    "def to_numeric(dataframe):\n",
    "    sex = {\"Male\":0,\"Female\":1}\n",
    "    dataframe = dataframe.replace({\"Sex\": sex})\n",
    "    return dataframe\n",
    "AMELIA = to_numeric(AMELIA)\n",
    "AMELIA = cata_encode(AMELIA)"
   ]
  },
  {
   "cell_type": "code",
   "execution_count": 6,
   "metadata": {},
   "outputs": [],
   "source": [
    "y_var = AMELIA[\"Person_Income\"]\n",
    "x_var = AMELIA.drop(columns = [\"index\", \"Person_Income\", \"Personal_ID\"])\n",
    "\n",
    "x_train, x_test, y_train, y_test = train_test_split(x_var, y_var, test_size = 0.25, random_state = 420)"
   ]
  },
  {
   "cell_type": "code",
   "execution_count": 7,
   "metadata": {},
   "outputs": [],
   "source": [
    "sc = StandardScaler()\n",
    "\n",
    "x_train = sc.fit_transform(x_train)\n",
    "x_test = sc.fit_transform(x_test)\n",
    "x_train = pd.DataFrame(x_train, columns=x_var.columns)\n",
    "x_test = pd.DataFrame(x_test, columns=x_var.columns)\n",
    "y_train = y_train"
   ]
  },
  {
   "cell_type": "code",
   "execution_count": 8,
   "metadata": {},
   "outputs": [],
   "source": [
    "param_grid_mlpr = [\n",
    "        {\n",
    "            'hidden_layer_sizes': [(100,), (500,),(1000,),(2000,)],\n",
    "            'activation' : ['relu'],\n",
    "            'solver' : ['lbfgs'],\n",
    "            'alpha': [0.0001, 0.001, 0.01],\n",
    "            'batch_size':['auto'],\n",
    "            'max_iter':[500],\n",
    "            'random_state':[420],\n",
    "            'verbose':[True]\n",
    "        }\n",
    "       ]"
   ]
  },
  {
   "cell_type": "code",
   "execution_count": 9,
   "metadata": {},
   "outputs": [
    {
     "name": "stdout",
     "output_type": "stream",
     "text": [
      "Fitting 3 folds for each of 12 candidates, totalling 36 fits\n"
     ]
    }
   ],
   "source": [
    "clf = GridSearchCV(MLPRegressor(), param_grid_mlpr, cv=3, scoring='neg_mean_squared_error', n_jobs = -1, verbose = 10)\n",
    "clf.fit(x_train,y_train.ravel())\n",
    "\n",
    "\n",
    "print(\"Best parameters set found on development set:\")\n",
    "print(clf.best_params_)"
   ]
  },
  {
   "cell_type": "code",
   "execution_count": 35,
   "metadata": {},
   "outputs": [],
   "source": [
    "param_grid_rf = [\n",
    "        {\n",
    "            'n_estimators': ([2000, 100]),\n",
    "            'min_samples_split': ([10, 5]),\n",
    "            'min_samples_leaf': ([2, 3])\n",
    "        }\n",
    "       ]"
   ]
  },
  {
   "cell_type": "code",
   "execution_count": null,
   "metadata": {},
   "outputs": [],
   "source": [
    "regr = GridSearchCV(RandomForestRegressor(), param_grid_rf, cv=3, n_jobs = -1)\n",
    "regr.fit(x_train,y_train)\n",
    "\n",
    "\n",
    "print(\"Best parameters set found on development set:\")\n",
    "print(regr.best_params_)"
   ]
  }
 ],
 "metadata": {
  "interpreter": {
   "hash": "c14cf6fee9e82c9cdd34ec15f18624274457bb0e780094f6e02ebebdc5a43f41"
  },
  "kernelspec": {
   "display_name": "Python 3 (ipykernel)",
   "language": "python",
   "name": "python3"
  },
  "language_info": {
   "codemirror_mode": {
    "name": "ipython",
    "version": 3
   },
   "file_extension": ".py",
   "mimetype": "text/x-python",
   "name": "python",
   "nbconvert_exporter": "python",
   "pygments_lexer": "ipython3",
   "version": "3.9.7"
  }
 },
 "nbformat": 4,
 "nbformat_minor": 2
}
